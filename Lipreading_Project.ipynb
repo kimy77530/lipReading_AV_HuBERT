{
  "cells": [
    {
      "cell_type": "markdown",
      "metadata": {
        "id": "l2iJc6i9rPli"
      },
      "source": [
        "# Implementing AV-HuBERT for Automatic Lip-Reading\n",
        "\n",
        "In this notebook, we use the pre-trained AV-HuBERT model for automatic lip reading on a synthetic dataset created using chosen sentences from movie quotes.\n",
        "The objective is to evaluate the effectiveness of this model on certain pre-defined variables and to suggest improvements."
      ]
    },
    {
      "cell_type": "markdown",
      "metadata": {
        "id": "eSMfe7P_rZsn"
      },
      "source": [
        "## Setting up the environment\n",
        "This section installs necessary python packages for the other sections. Run it first."
      ]
    },
    {
      "cell_type": "code",
      "execution_count": null,
      "metadata": {
        "colab": {
          "base_uri": "https://localhost:8080/"
        },
        "id": "PSadN0wxrkhf",
        "outputId": "0c5aa8d8-8b20-4178-d561-e345cb8f33e2"
      },
      "outputs": [
        {
          "output_type": "stream",
          "name": "stdout",
          "text": [
            "/content\n",
            "Cloning into 'av_hubert'...\n",
            "remote: Enumerating objects: 115, done.\u001b[K\n",
            "remote: Counting objects: 100% (4/4), done.\u001b[K\n",
            "remote: Compressing objects: 100% (4/4), done.\u001b[K\n",
            "remote: Total 115 (delta 0), reused 1 (delta 0), pack-reused 111\u001b[K\n",
            "Receiving objects: 100% (115/115), 4.62 MiB | 7.22 MiB/s, done.\n",
            "Resolving deltas: 100% (46/46), done.\n",
            "/content/av_hubert\n",
            "Submodule 'fairseq' (https://github.com/pytorch/fairseq) registered for path 'fairseq'\n",
            "Cloning into '/content/av_hubert/fairseq'...\n",
            "Submodule path 'fairseq': checked out 'afc77bdf4bb51453ce76f1572ef2ee6ddcda8eeb'\n",
            "Looking in indexes: https://pypi.org/simple, https://us-python.pkg.dev/colab-wheels/public/simple/\n",
            "Requirement already satisfied: scipy in /usr/local/lib/python3.8/dist-packages (1.7.3)\n",
            "Requirement already satisfied: numpy<1.23.0,>=1.16.5 in /usr/local/lib/python3.8/dist-packages (from scipy) (1.21.6)\n",
            "Looking in indexes: https://pypi.org/simple, https://us-python.pkg.dev/colab-wheels/public/simple/\n",
            "Collecting sentencepiece\n",
            "  Downloading sentencepiece-0.1.97-cp38-cp38-manylinux_2_17_x86_64.manylinux2014_x86_64.whl (1.3 MB)\n",
            "\u001b[K     |████████████████████████████████| 1.3 MB 4.4 MB/s \n",
            "\u001b[?25hInstalling collected packages: sentencepiece\n",
            "Successfully installed sentencepiece-0.1.97\n",
            "Looking in indexes: https://pypi.org/simple, https://us-python.pkg.dev/colab-wheels/public/simple/\n",
            "Collecting python_speech_features\n",
            "  Downloading python_speech_features-0.6.tar.gz (5.6 kB)\n",
            "Building wheels for collected packages: python-speech-features\n",
            "  Building wheel for python-speech-features (setup.py) ... \u001b[?25l\u001b[?25hdone\n",
            "  Created wheel for python-speech-features: filename=python_speech_features-0.6-py3-none-any.whl size=5889 sha256=94114536b493b658a3912b29953a2a6d636477580773ff6ee84ec881a55d0b78\n",
            "  Stored in directory: /root/.cache/pip/wheels/5b/60/87/28af2605138deac93d162904df42b6fdda1dab9b8757c62aa3\n",
            "Successfully built python-speech-features\n",
            "Installing collected packages: python-speech-features\n",
            "Successfully installed python-speech-features-0.6\n",
            "Looking in indexes: https://pypi.org/simple, https://us-python.pkg.dev/colab-wheels/public/simple/\n",
            "Collecting scikit-video\n",
            "  Downloading scikit_video-1.1.11-py2.py3-none-any.whl (2.3 MB)\n",
            "\u001b[K     |████████████████████████████████| 2.3 MB 4.0 MB/s \n",
            "\u001b[?25hRequirement already satisfied: scipy in /usr/local/lib/python3.8/dist-packages (from scikit-video) (1.7.3)\n",
            "Requirement already satisfied: numpy in /usr/local/lib/python3.8/dist-packages (from scikit-video) (1.21.6)\n",
            "Requirement already satisfied: pillow in /usr/local/lib/python3.8/dist-packages (from scikit-video) (7.1.2)\n",
            "Installing collected packages: scikit-video\n",
            "Successfully installed scikit-video-1.1.11\n",
            "/content/av_hubert/fairseq\n",
            "Looking in indexes: https://pypi.org/simple, https://us-python.pkg.dev/colab-wheels/public/simple/\n",
            "Processing /content/av_hubert/fairseq\n",
            "\u001b[33m  DEPRECATION: A future pip version will change local packages to be built in-place without first copying to a temporary directory. We recommend you use --use-feature=in-tree-build to test your packages with this new behavior before it becomes the default.\n",
            "   pip 21.3 will remove support for this functionality. You can find discussion regarding this at https://github.com/pypa/pip/issues/7555.\u001b[0m\n",
            "  Installing build dependencies ... \u001b[?25l\u001b[?25hdone\n",
            "  Getting requirements to build wheel ... \u001b[?25l\u001b[?25hdone\n",
            "  Installing backend dependencies ... \u001b[?25l\u001b[?25hdone\n",
            "    Preparing wheel metadata ... \u001b[?25l\u001b[?25hdone\n",
            "Requirement already satisfied: cython in /usr/local/lib/python3.8/dist-packages (from fairseq==1.0.0a0) (0.29.32)\n",
            "Collecting omegaconf<2.1\n",
            "  Downloading omegaconf-2.0.6-py3-none-any.whl (36 kB)\n",
            "Requirement already satisfied: numpy in /usr/local/lib/python3.8/dist-packages (from fairseq==1.0.0a0) (1.21.6)\n",
            "Requirement already satisfied: cffi in /usr/local/lib/python3.8/dist-packages (from fairseq==1.0.0a0) (1.15.1)\n",
            "Collecting hydra-core<1.1\n",
            "  Downloading hydra_core-1.0.7-py3-none-any.whl (123 kB)\n",
            "\u001b[K     |████████████████████████████████| 123 kB 7.3 MB/s \n",
            "\u001b[?25hRequirement already satisfied: regex in /usr/local/lib/python3.8/dist-packages (from fairseq==1.0.0a0) (2022.6.2)\n",
            "Requirement already satisfied: torch in /usr/local/lib/python3.8/dist-packages (from fairseq==1.0.0a0) (1.13.0+cu116)\n",
            "Requirement already satisfied: tqdm in /usr/local/lib/python3.8/dist-packages (from fairseq==1.0.0a0) (4.64.1)\n",
            "Collecting sacrebleu>=1.4.12\n",
            "  Downloading sacrebleu-2.3.1-py3-none-any.whl (118 kB)\n",
            "\u001b[K     |████████████████████████████████| 118 kB 42.6 MB/s \n",
            "\u001b[?25hRequirement already satisfied: importlib-resources in /usr/local/lib/python3.8/dist-packages (from hydra-core<1.1->fairseq==1.0.0a0) (5.10.0)\n",
            "Collecting antlr4-python3-runtime==4.8\n",
            "  Downloading antlr4-python3-runtime-4.8.tar.gz (112 kB)\n",
            "\u001b[K     |████████████████████████████████| 112 kB 50.1 MB/s \n",
            "\u001b[?25hRequirement already satisfied: PyYAML>=5.1.* in /usr/local/lib/python3.8/dist-packages (from omegaconf<2.1->fairseq==1.0.0a0) (6.0)\n",
            "Requirement already satisfied: typing-extensions in /usr/local/lib/python3.8/dist-packages (from omegaconf<2.1->fairseq==1.0.0a0) (4.4.0)\n",
            "Collecting portalocker\n",
            "  Downloading portalocker-2.6.0-py2.py3-none-any.whl (15 kB)\n",
            "Collecting colorama\n",
            "  Downloading colorama-0.4.6-py2.py3-none-any.whl (25 kB)\n",
            "Requirement already satisfied: lxml in /usr/local/lib/python3.8/dist-packages (from sacrebleu>=1.4.12->fairseq==1.0.0a0) (4.9.1)\n",
            "Requirement already satisfied: tabulate>=0.8.9 in /usr/local/lib/python3.8/dist-packages (from sacrebleu>=1.4.12->fairseq==1.0.0a0) (0.8.10)\n",
            "Requirement already satisfied: pycparser in /usr/local/lib/python3.8/dist-packages (from cffi->fairseq==1.0.0a0) (2.21)\n",
            "Requirement already satisfied: zipp>=3.1.0 in /usr/local/lib/python3.8/dist-packages (from importlib-resources->hydra-core<1.1->fairseq==1.0.0a0) (3.11.0)\n",
            "Building wheels for collected packages: fairseq, antlr4-python3-runtime\n",
            "  Building wheel for fairseq (PEP 517) ... \u001b[?25l\u001b[?25hdone\n",
            "  Created wheel for fairseq: filename=fairseq-1.0.0a0-cp38-cp38-linux_x86_64.whl size=6921736 sha256=d44c26f148161a8603dc0c0862ad536e47db1504e2fa8bb4b49c1e0c84b59176\n",
            "  Stored in directory: /tmp/pip-ephem-wheel-cache-fvb9cq4w/wheels/c0/bc/12/b44810d3f46a1b839bfe22323dd4609d9b0c8430ca1e0cc32e\n",
            "  Building wheel for antlr4-python3-runtime (setup.py) ... \u001b[?25l\u001b[?25hdone\n",
            "  Created wheel for antlr4-python3-runtime: filename=antlr4_python3_runtime-4.8-py3-none-any.whl size=141231 sha256=557454158bf589380cd5ced03a9ad4f7e9670b055bc9b3abc37f802cd3679c20\n",
            "  Stored in directory: /root/.cache/pip/wheels/c8/d0/ab/d43c02eaddc5b9004db86950802442ad9a26f279c619e28da0\n",
            "Successfully built fairseq antlr4-python3-runtime\n",
            "Installing collected packages: portalocker, omegaconf, colorama, antlr4-python3-runtime, sacrebleu, hydra-core, fairseq\n",
            "Successfully installed antlr4-python3-runtime-4.8 colorama-0.4.6 fairseq-1.0.0a0 hydra-core-1.0.7 omegaconf-2.0.6 portalocker-2.6.0 sacrebleu-2.3.1\n"
          ]
        }
      ],
      "source": [
        "%cd /content/\n",
        "!git clone https://github.com/facebookresearch/av_hubert.git\n",
        "\n",
        "%cd av_hubert\n",
        "!git submodule init\n",
        "!git submodule update\n",
        "!pip install scipy\n",
        "!pip install sentencepiece\n",
        "!pip install python_speech_features\n",
        "!pip install scikit-video\n",
        "\n",
        "%cd fairseq\n",
        "!pip install ./"
      ]
    },
    {
      "cell_type": "markdown",
      "metadata": {
        "id": "gGjYhPTtMIe6"
      },
      "source": [
        "## Preprocessing videos\n",
        "This section illustrates how to prepare a video clip."
      ]
    },
    {
      "cell_type": "markdown",
      "metadata": {
        "id": "iaLRjXX3cLnd"
      },
      "source": [
        "1. Install necessary tools for preprocessing"
      ]
    },
    {
      "cell_type": "code",
      "execution_count": null,
      "metadata": {
        "colab": {
          "base_uri": "https://localhost:8080/"
        },
        "id": "xRIdDlDRAFvE",
        "outputId": "cbb45c4f-7240-4d18-a916-1a7ca1a8c3f6"
      },
      "outputs": [
        {
          "output_type": "stream",
          "name": "stdout",
          "text": [
            "--2022-12-12 16:31:52--  http://dlib.net/files/shape_predictor_68_face_landmarks.dat.bz2\n",
            "Resolving dlib.net (dlib.net)... 107.180.26.78\n",
            "Connecting to dlib.net (dlib.net)|107.180.26.78|:80... connected.\n",
            "HTTP request sent, awaiting response... 200 OK\n",
            "Length: 64040097 (61M)\n",
            "Saving to: ‘/content/data/misc/shape_predictor_68_face_landmarks.dat.bz2’\n",
            "\n",
            "/content/data/misc/ 100%[===================>]  61.07M  15.3MB/s    in 5.9s    \n",
            "\n",
            "2022-12-12 16:31:58 (10.3 MB/s) - ‘/content/data/misc/shape_predictor_68_face_landmarks.dat.bz2’ saved [64040097/64040097]\n",
            "\n",
            "--2022-12-12 16:32:20--  https://github.com/mpc001/Lipreading_using_Temporal_Convolutional_Networks/raw/master/preprocessing/20words_mean_face.npy\n",
            "Resolving github.com (github.com)... 20.27.177.113\n",
            "Connecting to github.com (github.com)|20.27.177.113|:443... connected.\n",
            "HTTP request sent, awaiting response... 302 Found\n",
            "Location: https://raw.githubusercontent.com/mpc001/Lipreading_using_Temporal_Convolutional_Networks/master/preprocessing/20words_mean_face.npy [following]\n",
            "--2022-12-12 16:32:20--  https://raw.githubusercontent.com/mpc001/Lipreading_using_Temporal_Convolutional_Networks/master/preprocessing/20words_mean_face.npy\n",
            "Resolving raw.githubusercontent.com (raw.githubusercontent.com)... 185.199.108.133, 185.199.109.133, 185.199.110.133, ...\n",
            "Connecting to raw.githubusercontent.com (raw.githubusercontent.com)|185.199.108.133|:443... connected.\n",
            "HTTP request sent, awaiting response... 200 OK\n",
            "Length: 1168 (1.1K) [application/octet-stream]\n",
            "Saving to: ‘/content/data/misc/20words_mean_face.npy’\n",
            "\n",
            "/content/data/misc/ 100%[===================>]   1.14K  --.-KB/s    in 0s      \n",
            "\n",
            "2022-12-12 16:32:21 (46.9 MB/s) - ‘/content/data/misc/20words_mean_face.npy’ saved [1168/1168]\n",
            "\n"
          ]
        }
      ],
      "source": [
        "!mkdir -p /content/data/misc/\n",
        "!wget http://dlib.net/files/shape_predictor_68_face_landmarks.dat.bz2 -O /content/data/misc/shape_predictor_68_face_landmarks.dat.bz2\n",
        "!bzip2 -d /content/data/misc/shape_predictor_68_face_landmarks.dat.bz2\n",
        "!wget --content-disposition https://github.com/mpc001/Lipreading_using_Temporal_Convolutional_Networks/raw/master/preprocessing/20words_mean_face.npy -O /content/data/misc/20words_mean_face.npy"
      ]
    },
    {
      "cell_type": "code",
      "execution_count": null,
      "metadata": {
        "colab": {
          "base_uri": "https://localhost:8080/"
        },
        "id": "9j1gpg5U73PU",
        "outputId": "dbf49d04-7406-4b02-b6ac-a18b162cc007"
      },
      "outputs": [
        {
          "output_type": "stream",
          "name": "stdout",
          "text": [
            "Mounted at /content/drive\n",
            "CODE_OF_CONDUCT.md  examples\t hubconf.py\t README.md  tests\n",
            "CONTRIBUTING.md     fairseq\t LICENSE\t scripts    train.py\n",
            "docs\t\t    fairseq_cli  pyproject.toml  setup.py\n"
          ]
        }
      ],
      "source": [
        "from google.colab import drive\n",
        "drive.mount('/content/drive')\n",
        "\n",
        "!ls"
      ]
    },
    {
      "cell_type": "code",
      "execution_count": null,
      "metadata": {
        "colab": {
          "base_uri": "https://localhost:8080/"
        },
        "id": "zRATKCgt8-Rt",
        "outputId": "c8ef0c3f-3e0b-4c4e-cd2a-8b9a49ef3a35"
      },
      "outputs": [
        {
          "output_type": "stream",
          "name": "stdout",
          "text": [
            "David  Keaton  sentence1   sentence2  sentence4  sentence6  sentence8  Vidya\n",
            "Joe    Kim     sentence10  sentence3  sentence5  sentence7  sentence9\n"
          ]
        }
      ],
      "source": [
        "!ls /content/drive/MyDrive/FinalProjectDL/code/videos/"
      ]
    },
    {
      "cell_type": "code",
      "execution_count": null,
      "metadata": {
        "id": "um-_bygMKo1f"
      },
      "outputs": [],
      "source": [
        "# !cp /content/data/8_2.mp4 /content/data/clip.mp4"
      ]
    },
    {
      "cell_type": "markdown",
      "metadata": {
        "id": "SsxZQ282cPPu"
      },
      "source": [
        "3. Extract mouth ROI."
      ]
    },
    {
      "cell_type": "code",
      "execution_count": null,
      "metadata": {
        "colab": {
          "base_uri": "https://localhost:8080/"
        },
        "id": "fenUTcC2Disi",
        "outputId": "37cb4e9b-50aa-42d8-f3d3-f2e3c99a337f"
      },
      "outputs": [
        {
          "output_type": "stream",
          "name": "stdout",
          "text": [
            "/content/av_hubert/avhubert\n"
          ]
        }
      ],
      "source": [
        "%cd /content/av_hubert/avhubert/\n",
        "\n",
        "import dlib, cv2, os\n",
        "import numpy as np\n",
        "import skvideo\n",
        "import skvideo.io\n",
        "from tqdm import tqdm\n",
        "from preparation.align_mouth import landmarks_interpolate, crop_patch, write_video_ffmpeg\n",
        "from IPython.display import HTML\n",
        "from base64 import b64encode\n",
        "\n",
        "def play_video(video_path, width=200):\n",
        "  mp4 = open(video_path,'rb').read()\n",
        "  data_url = \"data:video/mp4;base64,\" + b64encode(mp4).decode()\n",
        "  return HTML(f\"\"\"\n",
        "  <video width={width} controls>\n",
        "        <source src=\"{data_url}\" type=\"video/mp4\">\n",
        "  </video>\n",
        "  \"\"\")\n",
        "\n",
        "def detect_landmark(image, detector, predictor):\n",
        "    gray = cv2.cvtColor(image, cv2.COLOR_RGB2GRAY)\n",
        "    rects = detector(gray, 1)\n",
        "    coords = None\n",
        "    for (_, rect) in enumerate(rects):\n",
        "        shape = predictor(gray, rect)\n",
        "        coords = np.zeros((68, 2), dtype=np.int32)\n",
        "        for i in range(0, 68):\n",
        "            coords[i] = (shape.part(i).x, shape.part(i).y)\n",
        "    return coords\n",
        "\n",
        "def preprocess_video(input_video_path, output_video_path, face_predictor_path, mean_face_path):\n",
        "  detector = dlib.get_frontal_face_detector()\n",
        "  predictor = dlib.shape_predictor(face_predictor_path)\n",
        "  STD_SIZE = (256, 256)\n",
        "  mean_face_landmarks = np.load(mean_face_path)\n",
        "  stablePntsIDs = [33, 36, 39, 42, 45]\n",
        "  videogen = skvideo.io.vread(input_video_path)\n",
        "  frames = np.array([frame for frame in videogen])\n",
        "  landmarks = []\n",
        "  for frame in tqdm(frames):\n",
        "      landmark = detect_landmark(frame, detector, predictor)\n",
        "      landmarks.append(landmark)\n",
        "  preprocessed_landmarks = landmarks_interpolate(landmarks)\n",
        "  rois = crop_patch(input_video_path, preprocessed_landmarks, mean_face_landmarks, stablePntsIDs, STD_SIZE,\n",
        "                        window_margin=12, start_idx=48, stop_idx=68, crop_height=96, crop_width=96)\n",
        "  write_video_ffmpeg(rois, output_video_path, \"/usr/bin/ffmpeg\")\n",
        "  return"
      ]
    },
    {
      "cell_type": "code",
      "execution_count": null,
      "metadata": {
        "id": "rwfb4AkSMnip"
      },
      "outputs": [],
      "source": [
        "# play_video('/content/data/clip.mp4', width=300)"
      ]
    },
    {
      "cell_type": "code",
      "execution_count": null,
      "metadata": {
        "id": "-D_fa6SGMpfA"
      },
      "outputs": [],
      "source": [
        "# face_predictor_path = \"/content/data/misc/shape_predictor_68_face_landmarks.dat\"\n",
        "# mean_face_path = \"/content/data/misc/20words_mean_face.npy\"\n",
        "# origin_clip_path = \"/content/data/clip.mp4\"\n",
        "# mouth_roi_path = \"/content/data/roi.mp4\"\n",
        "# preprocess_video(origin_clip_path, mouth_roi_path, face_predictor_path, mean_face_path)\n",
        "# play_video(mouth_roi_path)"
      ]
    },
    {
      "cell_type": "markdown",
      "metadata": {
        "id": "zbHzx965EeR1"
      },
      "source": [
        "## Import a pre-trained model\n",
        "This section illustrates how to load a pre-trained model and use it for inference."
      ]
    },
    {
      "cell_type": "markdown",
      "metadata": {
        "id": "inwnJy3v44Em"
      },
      "source": [
        "1. Download a model checkpoint"
      ]
    },
    {
      "cell_type": "code",
      "execution_count": null,
      "metadata": {
        "colab": {
          "base_uri": "https://localhost:8080/"
        },
        "id": "MnfDD2kbEjU4",
        "outputId": "d1ed104b-8862-4e68-c373-a94b79e1d87f"
      },
      "outputs": [
        {
          "output_type": "stream",
          "name": "stdout",
          "text": [
            "/content/av_hubert/avhubert\n",
            "--2022-12-12 16:32:51--  https://dl.fbaipublicfiles.com/avhubert/model/lrs3_vox/vsr/base_vox_433h.pt\n",
            "Resolving dl.fbaipublicfiles.com (dl.fbaipublicfiles.com)... 172.67.9.4, 104.22.74.142, 104.22.75.142, ...\n",
            "Connecting to dl.fbaipublicfiles.com (dl.fbaipublicfiles.com)|172.67.9.4|:443... connected.\n",
            "HTTP request sent, awaiting response... 200 OK\n",
            "Length: 1928063847 (1.8G) [binary/octet-stream]\n",
            "Saving to: ‘/content/data/finetune-model.pt’\n",
            "\n",
            "/content/data/finet 100%[===================>]   1.79G  22.3MB/s    in 90s     \n",
            "\n",
            "2022-12-12 16:34:22 (20.4 MB/s) - ‘/content/data/finetune-model.pt’ saved [1928063847/1928063847]\n",
            "\n"
          ]
        }
      ],
      "source": [
        "!pwd\n",
        "%mkdir -p /content/data/\n",
        "!wget https://dl.fbaipublicfiles.com/avhubert/model/lrs3_vox/vsr/base_vox_433h.pt -O /content/data/finetune-model.pt"
      ]
    },
    {
      "cell_type": "markdown",
      "metadata": {
        "id": "O1VrZBSt5JG3"
      },
      "source": [
        "2. Inference with the model"
      ]
    },
    {
      "cell_type": "code",
      "execution_count": null,
      "metadata": {
        "colab": {
          "base_uri": "https://localhost:8080/"
        },
        "id": "RxPADL3DEqSR",
        "outputId": "884d02e4-edb4-41b6-ba4d-bc919b58e7b5"
      },
      "outputs": [
        {
          "output_type": "stream",
          "name": "stdout",
          "text": [
            "/content/av_hubert/avhubert\n"
          ]
        },
        {
          "output_type": "stream",
          "name": "stderr",
          "text": [
            "/usr/local/lib/python3.8/dist-packages/torch/cuda/__init__.py:497: UserWarning: Can't initialize NVML\n",
            "  warnings.warn(\"Can't initialize NVML\")\n"
          ]
        }
      ],
      "source": [
        "%cd /content/av_hubert/avhubert\n",
        "import cv2\n",
        "import tempfile\n",
        "from argparse import Namespace\n",
        "import fairseq\n",
        "from fairseq import checkpoint_utils, options, tasks, utils\n",
        "from fairseq.dataclass.configs import GenerationConfig\n",
        "from IPython.display import HTML\n",
        "\n",
        "def predict(video_path, ckpt_path, user_dir):\n",
        "  num_frames = int(cv2.VideoCapture(video_path).get(cv2.CAP_PROP_FRAME_COUNT))\n",
        "  data_dir = tempfile.mkdtemp()\n",
        "  tsv_cont = [\"/\\n\", f\"test-0\\t{video_path}\\t{None}\\t{num_frames}\\t{int(16_000*num_frames/25)}\\n\"]\n",
        "  label_cont = [\"DUMMY\\n\"]\n",
        "  with open(f\"{data_dir}/test.tsv\", \"w\") as fo:\n",
        "    fo.write(\"\".join(tsv_cont))\n",
        "  with open(f\"{data_dir}/test.wrd\", \"w\") as fo:\n",
        "    fo.write(\"\".join(label_cont))\n",
        "  utils.import_user_module(Namespace(user_dir=user_dir))\n",
        "  modalities = [\"video\"]\n",
        "  gen_subset = \"test\"\n",
        "  gen_cfg = GenerationConfig(beam=20)\n",
        "  models, saved_cfg, task = checkpoint_utils.load_model_ensemble_and_task([ckpt_path])\n",
        "  models = [model.eval().cuda() for model in models]\n",
        "  models = [model.eval() for model in models]\n",
        "  saved_cfg.task.modalities = modalities\n",
        "  saved_cfg.task.data = data_dir\n",
        "  saved_cfg.task.label_dir = data_dir\n",
        "  task = tasks.setup_task(saved_cfg.task)\n",
        "  task.load_dataset(gen_subset, task_cfg=saved_cfg.task)\n",
        "  generator = task.build_generator(models, gen_cfg)\n",
        "\n",
        "  def decode_fn(x):\n",
        "      dictionary = task.target_dictionary\n",
        "      symbols_ignore = generator.symbols_to_strip_from_output\n",
        "      symbols_ignore.add(dictionary.pad())\n",
        "      return task.datasets[gen_subset].label_processors[0].decode(x, symbols_ignore)\n",
        "\n",
        "  itr = task.get_batch_iterator(dataset=task.dataset(gen_subset)).next_epoch_itr(shuffle=False)\n",
        "  sample = next(itr)\n",
        "  sample = utils.move_to_cuda(sample)\n",
        "  hypos = task.inference_step(generator, models, sample)\n",
        "  ref = decode_fn(sample['target'][0].int().cpu())\n",
        "  hypo = hypos[0][0]['tokens'].int().cpu()\n",
        "  hypo = decode_fn(hypo)\n",
        "  return hypo\n",
        "\n",
        "\n",
        "# HTML(f\"\"\"\n",
        "#   <h3>\n",
        "#     Prediction - {hypo}\n",
        "#   </h3>\n",
        "#   \"\"\")"
      ]
    },
    {
      "cell_type": "markdown",
      "metadata": {
        "id": "Z96Tm4JSGzM1"
      },
      "source": [
        "3. Extract visual feature with the model"
      ]
    },
    {
      "cell_type": "code",
      "execution_count": null,
      "metadata": {
        "colab": {
          "base_uri": "https://localhost:8080/"
        },
        "id": "zgSs37cp59xq",
        "outputId": "98dcfe37-e445-458a-ae1e-7050c8566ac3"
      },
      "outputs": [
        {
          "output_type": "stream",
          "name": "stdout",
          "text": [
            "/content/av_hubert/avhubert\n"
          ]
        }
      ],
      "source": [
        "%cd /content/av_hubert/avhubert\n",
        "import cv2\n",
        "import tempfile\n",
        "import torch\n",
        "import utils as avhubert_utils\n",
        "from argparse import Namespace\n",
        "import fairseq\n",
        "from fairseq import checkpoint_utils, options, tasks, utils\n",
        "from IPython.display import HTML\n",
        "\n",
        "def extract_visual_feature(video_path, ckpt_path, user_dir, is_finetune_ckpt=False):\n",
        "  utils.import_user_module(Namespace(user_dir=user_dir))\n",
        "  models, saved_cfg, task = checkpoint_utils.load_model_ensemble_and_task([ckpt_path])\n",
        "  transform = avhubert_utils.Compose([\n",
        "      avhubert_utils.Normalize(0.0, 255.0),\n",
        "      avhubert_utils.CenterCrop((task.cfg.image_crop_size, task.cfg.image_crop_size)),\n",
        "      avhubert_utils.Normalize(task.cfg.image_mean, task.cfg.image_std)])\n",
        "  frames = avhubert_utils.load_video(video_path)\n",
        "  print(f\"Load video {video_path}: shape {frames.shape}\")\n",
        "  frames = transform(frames)\n",
        "  print(f\"Center crop video to: {frames.shape}\")\n",
        "  frames = torch.FloatTensor(frames).unsqueeze(dim=0).unsqueeze(dim=0).cuda()\n",
        "  model = models[0]\n",
        "  if hasattr(models[0], 'decoder'):\n",
        "    print(f\"Checkpoint: fine-tuned\")\n",
        "    model = models[0].encoder.w2v_model\n",
        "  else:\n",
        "    print(f\"Checkpoint: pre-trained w/o fine-tuning\")\n",
        "  model.cuda()\n",
        "  model.eval()\n",
        "  with torch.no_grad():\n",
        "    # Specify output_layer if you want to extract feature of an intermediate layer\n",
        "    feature, _ = model.extract_finetune(source={'video': frames, 'audio': None}, padding_mask=None, output_layer=None)\n",
        "    feature = feature.squeeze(dim=0)\n",
        "  print(f\"Video feature shape: {feature.shape}\")\n",
        "  return feature\n",
        "\n"
      ]
    },
    {
      "cell_type": "code",
      "execution_count": null,
      "metadata": {
        "id": "1kzy5jzmZkP1"
      },
      "outputs": [],
      "source": [
        "video_dir = '/content/drive/MyDrive/FinalProjectDL/code/videos/Keaton/'"
      ]
    },
    {
      "cell_type": "code",
      "execution_count": null,
      "metadata": {
        "colab": {
          "base_uri": "https://localhost:8080/"
        },
        "id": "vKb9cVrP_vMe",
        "outputId": "12da01cc-1d7d-43a9-de12-9a420ba4f450"
      },
      "outputs": [
        {
          "output_type": "stream",
          "name": "stdout",
          "text": [
            "['10_1_3.mp4', '10_2_3.mp4', '1_1_3.mp4', '1_2_3.mp4', '2_1_3.mp4', '2_2_3.mp4', '3_1_3.mp4', '3_2_3.mp4', '4_1_3.mp4', '4_2_3.mp4', '5_1_3.mp4', '5_2_3.mp4', '6_1_3.mp4', '6_2_3.mp4', '7_1_3.mp4', '7_2_3.mp4', '8_1_3.mp4', '8_2_3.mp4', '9_1_3.mp4', '9_2_3.mp4'] 20\n"
          ]
        }
      ],
      "source": [
        "# Import the necessary modules\n",
        "import os\n",
        "from fnmatch import fnmatch\n",
        "\n",
        "# Define the pattern to match\n",
        "pattern = \"*.mp4\"\n",
        "\n",
        "# Use the `!` operator to run a shell command to get a list of files\n",
        "# in the current directory\n",
        "files = !ls -1 $video_dir\n",
        "\n",
        "# Filter the list of files to only include those with the \".mp4\" extension\n",
        "mp4_files = [file.replace('\\'','') for file in files ]\n",
        "\n",
        "# Print the list of files\n",
        "print( mp4_files, len(mp4_files))\n",
        "\n"
      ]
    },
    {
      "cell_type": "code",
      "execution_count": null,
      "metadata": {
        "colab": {
          "background_save": true,
          "base_uri": "https://localhost:8080/"
        },
        "id": "PrHRkukRA0Xs",
        "outputId": "1b1591f6-47e5-4823-aace-352bc52d7765"
      },
      "outputs": [
        {
          "name": "stderr",
          "output_type": "stream",
          "text": [
            "100%|██████████| 128/128 [02:10<00:00,  1.02s/it]\n",
            "100%|██████████| 132/132 [02:14<00:00,  1.02s/it]\n",
            "100%|██████████| 155/155 [02:37<00:00,  1.02s/it]\n",
            "100%|██████████| 160/160 [02:43<00:00,  1.02s/it]\n",
            "100%|██████████| 180/180 [03:03<00:00,  1.02s/it]\n",
            "100%|██████████| 188/188 [03:11<00:00,  1.02s/it]\n",
            "100%|██████████| 86/86 [01:27<00:00,  1.02s/it]\n",
            "100%|██████████| 86/86 [01:28<00:00,  1.03s/it]\n",
            "100%|██████████| 114/114 [01:56<00:00,  1.02s/it]\n",
            "100%|██████████| 120/120 [02:02<00:00,  1.02s/it]\n",
            "100%|██████████| 120/120 [02:02<00:00,  1.02s/it]\n",
            "100%|██████████| 122/122 [02:04<00:00,  1.02s/it]\n",
            "100%|██████████| 219/219 [03:43<00:00,  1.02s/it]\n",
            "100%|██████████| 159/159 [02:41<00:00,  1.02s/it]\n",
            "100%|██████████| 221/221 [03:45<00:00,  1.02s/it]\n",
            "100%|██████████| 207/207 [03:30<00:00,  1.02s/it]\n",
            "100%|██████████| 87/87 [01:28<00:00,  1.01s/it]\n",
            "100%|██████████| 93/93 [01:34<00:00,  1.02s/it]\n",
            "100%|██████████| 114/114 [01:55<00:00,  1.01s/it]\n",
            "100%|██████████| 121/121 [02:03<00:00,  1.02s/it]\n"
          ]
        }
      ],
      "source": [
        "outArray = []\n",
        "for num in range(len(mp4_files)):\n",
        "  face_predictor_path = \"/content/data/misc/shape_predictor_68_face_landmarks.dat\"\n",
        "  mean_face_path = \"/content/data/misc/20words_mean_face.npy\"\n",
        "  origin_clip_path = video_dir + '/' + mp4_files[num]\n",
        "  mouth_roi_path = \"/content/data/roi.mp4\"\n",
        "  preprocess_video(origin_clip_path, mouth_roi_path, face_predictor_path, mean_face_path)\n",
        "  mouth_roi_path, ckpt_path = \"/content/data/roi.mp4\", \"/content/data/finetune-model.pt\"\n",
        "  user_dir = \"/content/av_hubert/avhubert\"\n",
        "  hypo = predict(mouth_roi_path, ckpt_path, user_dir)\n",
        "  outArray.append((num, hypo))"
      ]
    },
    {
      "cell_type": "code",
      "execution_count": null,
      "metadata": {
        "colab": {
          "base_uri": "https://localhost:8080/"
        },
        "id": "aBtUyVyZEYfE",
        "outputId": "6d1d6acf-8921-420a-b8c3-6a275ad8096d"
      },
      "outputs": [
        {
          "data": {
            "text/plain": [
              "[(0, 'alright'),\n",
              " (1, 'no trying not to do not there is no child'),\n",
              " (2, 'other jobs can come true if we have the urge to pursue them'),\n",
              " (3, 'and if our dreams can come true if we have the courage to pursue them'),\n",
              " (4,\n",
              "  \"it's intuitive to measure our own family using our gifts for the paramedic of others to let them\"),\n",
              " (5,\n",
              "  'and i see you in the magical fabric you see a gift for the power of the light or surround them'),\n",
              " (6, \"we think they're cheaping they're going to refer\"),\n",
              " (7, 'we think the brain patterns were cut it was fun'),\n",
              " (8, \"just because something worse doesn't mean it can't be improved\"),\n",
              " (9, \"just because something works doesn't matter can't be improved\"),\n",
              " (10,\n",
              "  'i mean you have mistakes and all the time everything seems to work out'),\n",
              " (11, 'and many creative mistakes all the time everything seems to work out'),\n",
              " (12,\n",
              "  \"we don't want to fill the maps up to burning structure and hates and every months as well\"),\n",
              " (13,\n",
              "  'when you left your maps in your body changing and except for everybody suspect'),\n",
              " (14,\n",
              "  'ok now we go floating in japan i am speaking 140 year old girls i get losing for breakfast'),\n",
              " (15,\n",
              "  'ok we are fluid to be i am speaking one way of 40 using the high evolution of the breakfast'),\n",
              " (16, 'with great power comes to our responsibility'),\n",
              " (17, 'with a great power comes to our responsibility'),\n",
              " (18, 'name you must be your fear before punishing you can'),\n",
              " (19, 'names must be your fear performed energy today')]"
            ]
          },
          "execution_count": 39,
          "metadata": {},
          "output_type": "execute_result"
        }
      ],
      "source": [
        "outArray"
      ]
    },
    {
      "cell_type": "markdown",
      "metadata": {
        "id": "-isbP0XRXxtS"
      },
      "source": [
        "## WER score calculation\n",
        "This section illustrates how to calculate the WER score between the original and the predicted sentences using the  Levenshtein distance algorithm.\n",
        "\n",
        "Source: https://pyzone.dev/word-error-rate-in-python/"
      ]
    },
    {
      "cell_type": "code",
      "execution_count": null,
      "metadata": {
        "id": "NqjkHWKxL243"
      },
      "outputs": [],
      "source": [
        "def wer(ref, hyp ,debug=True):\n",
        "    r = ref.split()\n",
        "    h = hyp.split()\n",
        "    #costs will holds the costs, like in the Levenshtein distance algorithm\n",
        "    costs = [[0 for inner in range(len(h)+1)] for outer in range(len(r)+1)]\n",
        "    # backtrace will hold the operations we've done.\n",
        "    # so we could later backtrace, like the WER algorithm requires us to.\n",
        "    backtrace = [[0 for inner in range(len(h)+1)] for outer in range(len(r)+1)]\n",
        "\n",
        "    OP_OK = 0\n",
        "    OP_SUB = 1\n",
        "    OP_INS = 2\n",
        "    OP_DEL = 3\n",
        "    DEL_PENALTY = 1\n",
        "    INS_PENALTY = 1\n",
        "    SUB_PENALTY = 1\n",
        "\n",
        "    # First column represents the case where we achieve zero\n",
        "    # hypothesis words by deleting all reference words.\n",
        "    for i in range(1, len(r)+1):\n",
        "        costs[i][0] = DEL_PENALTY*i\n",
        "        backtrace[i][0] = OP_DEL\n",
        "\n",
        "    # First row represents the case where we achieve the hypothesis\n",
        "    # by inserting all hypothesis words into a zero-length reference.\n",
        "    for j in range(1, len(h) + 1):\n",
        "        costs[0][j] = INS_PENALTY * j\n",
        "        backtrace[0][j] = OP_INS\n",
        "\n",
        "    # computation\n",
        "    for i in range(1, len(r)+1):\n",
        "        for j in range(1, len(h)+1):\n",
        "            if r[i-1] == h[j-1]:\n",
        "                costs[i][j] = costs[i-1][j-1]\n",
        "                backtrace[i][j] = OP_OK\n",
        "            else:\n",
        "                substitutionCost = costs[i-1][j-1] + SUB_PENALTY # penalty is always 1\n",
        "                insertionCost    = costs[i][j-1] + INS_PENALTY   # penalty is always 1\n",
        "                deletionCost     = costs[i-1][j] + DEL_PENALTY   # penalty is always 1\n",
        "\n",
        "                costs[i][j] = min(substitutionCost, insertionCost, deletionCost)\n",
        "                if costs[i][j] == substitutionCost:\n",
        "                    backtrace[i][j] = OP_SUB\n",
        "                elif costs[i][j] == insertionCost:\n",
        "                    backtrace[i][j] = OP_INS\n",
        "                else:\n",
        "                    backtrace[i][j] = OP_DEL\n",
        "\n",
        "    # back trace though the best route:\n",
        "    i = len(r)\n",
        "    j = len(h)\n",
        "    numSub = 0\n",
        "    numDel = 0\n",
        "    numIns = 0\n",
        "    numCor = 0\n",
        "    if debug:\n",
        "        print(\"OP\\tREF\\tHYP\")\n",
        "        lines = []\n",
        "    while i > 0 or j > 0:\n",
        "        if backtrace[i][j] == OP_OK:\n",
        "            numCor += 1\n",
        "            i-=1\n",
        "            j-=1\n",
        "            if debug:\n",
        "                lines.append(\"OK\\t\" + r[i]+\"\\t\"+h[j])\n",
        "        elif backtrace[i][j] == OP_SUB:\n",
        "            numSub +=1\n",
        "            i-=1\n",
        "            j-=1\n",
        "            if debug:\n",
        "                lines.append(\"SUB\\t\" + r[i]+\"\\t\"+h[j])\n",
        "        elif backtrace[i][j] == OP_INS:\n",
        "            numIns += 1\n",
        "            j-=1\n",
        "            if debug:\n",
        "                lines.append(\"INS\\t\" + \"****\" + \"\\t\" + h[j])\n",
        "        elif backtrace[i][j] == OP_DEL:\n",
        "            numDel += 1\n",
        "            i-=1\n",
        "            if debug:\n",
        "                lines.append(\"DEL\\t\" + r[i]+\"\\t\"+\"****\")\n",
        "    if debug:\n",
        "        lines = reversed(lines)\n",
        "        for line in lines:\n",
        "            print(line)\n",
        "        print(\"#cor \" + str(numCor))\n",
        "        print(\"#sub \" + str(numSub))\n",
        "        print(\"#del \" + str(numDel))\n",
        "        print(\"#ins \" + str(numIns))\n",
        "    # return (numSub + numDel + numIns) / (float) (len(r))\n",
        "    wer_result = round( (numSub + numDel + numIns) / (float) (len(r)), 3)\n",
        "    return {'WER':wer_result, 'numCor':numCor, 'numSub':numSub, 'numIns':numIns, 'numDel':numDel, \"numCount\": len(r)}\n",
        ""
      ]
    },
    {
      "cell_type": "code",
      "execution_count": null,
      "metadata": {
        "id": "KKBDuMKTaVdr"
      },
      "outputs": [],
      "source": [
        "sample_original = ['All our dreams can come true if we have the courage to pursue them',\n",
        "            'Its the duty of the Madrigal family to use their gifts for the betterment of others around them',\n",
        "            'Without the Black Panther Wakanda will fall',\n",
        "            'Just because something works doesn’t mean it can’t be improved',\n",
        "            'I make grave mistakes all the time Everything seems to work out',\n",
        "            'We Do Not Follow Maps To Buried Treasure And X Never Ever Marks The Spot',\n",
        "            'Okay here we go Focus speed I am speed One winner 42 losers I eat losers for breakfast',\n",
        "            'With great power comes great responsibility',\n",
        "            'Named must be your fear before banish it you can',\n",
        "            'No Try not Do Or do not There is no try']"
      ]
    },
    {
      "cell_type": "code",
      "execution_count": null,
      "metadata": {
        "colab": {
          "base_uri": "https://localhost:8080/"
        },
        "id": "KzkeSH6taQXN",
        "outputId": "c715130e-093f-4156-e2ae-0483bc9dd885"
      },
      "outputs": [
        {
          "output_type": "execute_result",
          "data": {
            "text/plain": [
              "[('10_1_3.mp4', 10, 1, 3),\n",
              " ('10_2_3.mp4', 10, 2, 3),\n",
              " ('1_1_3.mp4', 1, 1, 3),\n",
              " ('1_2_3.mp4', 1, 2, 3),\n",
              " ('2_1_3.mp4', 2, 1, 3),\n",
              " ('2_2_3.mp4', 2, 2, 3),\n",
              " ('3_1_3.mp4', 3, 1, 3),\n",
              " ('3_2_3.mp4', 3, 2, 3),\n",
              " ('4_1_3.mp4', 4, 1, 3),\n",
              " ('4_2_3.mp4', 4, 2, 3),\n",
              " ('5_1_3.mp4', 5, 1, 3),\n",
              " ('5_2_3.mp4', 5, 2, 3),\n",
              " ('6_1_3.mp4', 6, 1, 3),\n",
              " ('6_2_3.mp4', 6, 2, 3),\n",
              " ('7_1_3.mp4', 7, 1, 3),\n",
              " ('7_2_3.mp4', 7, 2, 3),\n",
              " ('8_1_3.mp4', 8, 1, 3),\n",
              " ('8_2_3.mp4', 8, 2, 3),\n",
              " ('9_1_3.mp4', 9, 1, 3),\n",
              " ('9_2_3.mp4', 9, 2, 3)]"
            ]
          },
          "metadata": {},
          "execution_count": 13
        }
      ],
      "source": [
        "filename_with_metadata = []\n",
        "for file in mp4_files:\n",
        "  sentenceid, angleid, personid = file.replace('\\'','').replace('.mp4','').split('_')\n",
        "  filename_with_metadata.append((file, int(sentenceid),int(angleid),int(personid)))\n",
        "filename_with_metadata"
      ]
    },
    {
      "cell_type": "code",
      "execution_count": null,
      "metadata": {
        "id": "934DOgPEaD7R"
      },
      "outputs": [],
      "source": [
        "sample_outArray = [(0, 'all our dreams can come to if we have the courage to pursue them'),\n",
        " (1, 'all our dreams can come to if we have the courage to be to them'),\n",
        " (2, 'all of our dreams can come true we have to learn to pursue them'),\n",
        " (3, 'all of our dreams can come true if we have the courage to pursue them'),\n",
        " (4, 'and if our dreams can come true if we have the urge to pursue them'),\n",
        " (5, 'other times can come true if we have the urge to pursue them')]"
      ]
    },
    {
      "cell_type": "code",
      "execution_count": null,
      "metadata": {
        "id": "hav3qFd_aggG"
      },
      "outputs": [],
      "source": [
        "wer_scores = []\n",
        "for x in range(len(outArray)):\n",
        "  wer_score = wer(sample_original[filename_with_metadata[x][1]-1].lower(), outArray[x][1])\n",
        "  # print(filename_with_metadata[x])\n",
        "  # print(sample_outArray[x][1])\n",
        "  wer_scores.append((filename_with_metadata[x][1], filename_with_metadata[x][2],\n",
        "                     filename_with_metadata[x][3], wer_score['WER']))"
      ]
    },
    {
      "cell_type": "code",
      "execution_count": null,
      "metadata": {
        "id": "WjZxi1Pefu8m"
      },
      "outputs": [],
      "source": [
        "wer_scores"
      ]
    },
    {
      "cell_type": "markdown",
      "metadata": {
        "id": "rMyOFKw-X4YQ"
      },
      "source": [
        "## Model Evaluation\n",
        "In this section we use the following pre-defined variables to evaluate the model performance:\n",
        "* Gender of the person speaking\n",
        "* Native vs non-native speakers\n",
        "* Angle at the video was taken\n",
        "* Sentences with jumbled grammar or too many breaks and pauses\n",
        "* Sentences with newer context than when the model was originally trained"
      ]
    },
    {
      "cell_type": "code",
      "execution_count": null,
      "metadata": {
        "id": "ONod24_OgyoZ"
      },
      "outputs": [],
      "source": [
        "from sklearn.linear_model import LinearRegression\n",
        "from sklearn.metrics import r2_score\n",
        "import pandas as pd\n",
        "import numpy as np\n",
        "import matplotlib.pyplot as plt"
      ]
    },
    {
      "cell_type": "code",
      "execution_count": null,
      "metadata": {
        "id": "GUYzy_raUk_H"
      },
      "outputs": [],
      "source": [
        "training_data = pd.read_excel('/content/drive/MyDrive/FinalProjectDL/code/Model_Evaluation.xlsx')"
      ]
    },
    {
      "cell_type": "code",
      "execution_count": null,
      "metadata": {
        "colab": {
          "base_uri": "https://localhost:8080/",
          "height": 599
        },
        "id": "66EicoAjVGkP",
        "outputId": "3602a799-4ea8-4558-da98-9f81de2ed1cb"
      },
      "outputs": [
        {
          "output_type": "execute_result",
          "data": {
            "text/plain": [
              "      Name                                           Sentence  \\\n",
              "0    Vidya  All our dreams can come true if we have the co...   \n",
              "1    Vidya  All our dreams can come true if we have the co...   \n",
              "2    Vidya  It's the duty of the Madrigal family to use th...   \n",
              "3    Vidya  It's the duty of the Madrigal family to use th...   \n",
              "4    Vidya        Without the Black Panther Wakanda will fall   \n",
              "..     ...                                                ...   \n",
              "95  Keaton        With great power comes great responsibility   \n",
              "96  Keaton   Named must be your fear before banish it you can   \n",
              "97  Keaton   Named must be your fear before banish it you can   \n",
              "98  Keaton            No Try not Do Or do not There is no try   \n",
              "99  Keaton            No Try not Do Or do not There is no try   \n",
              "\n",
              "                                           Prediction  WER_score  \\\n",
              "0   all our dreams can come to you if we have the ...      0.071   \n",
              "1   all our dreams can come to if we have the cour...      0.214   \n",
              "2   it is the beauty and family includes their gif...      0.368   \n",
              "3   it is the duty of the paradigm family to use t...      0.105   \n",
              "4      without the black panth what are you will fall      0.571   \n",
              "..                                                ...        ...   \n",
              "95  with the great power helps to get the responsi...      0.833   \n",
              "96  name you must be your fear before punishing yo...      0.400   \n",
              "97     named must be your fear performed energy today      0.500   \n",
              "98                                            alright      1.000   \n",
              "99           no trying not to do the artists of china      0.727   \n",
              "\n",
              "    Native_speaker  Woman  Head_on  New_context  Bad_Grammar  \n",
              "0              0.0    1.0      1.0          0.0          0.0  \n",
              "1              0.0    1.0      0.0          0.0          0.0  \n",
              "2              0.0    1.0      1.0          1.0          0.0  \n",
              "3              0.0    1.0      0.0          1.0          0.0  \n",
              "4              0.0    1.0      1.0          1.0          0.0  \n",
              "..             ...    ...      ...          ...          ...  \n",
              "95             1.0    0.0      0.0          0.0          0.0  \n",
              "96             1.0    0.0      1.0          0.0          1.0  \n",
              "97             1.0    0.0      0.0          0.0          1.0  \n",
              "98             1.0    0.0      1.0          0.0          1.0  \n",
              "99             1.0    0.0      0.0          0.0          1.0  \n",
              "\n",
              "[100 rows x 9 columns]"
            ],
            "text/html": [
              "\n",
              "  <div id=\"df-f6d84614-7041-4394-824e-a540e9e2e14a\">\n",
              "    <div class=\"colab-df-container\">\n",
              "      <div>\n",
              "<style scoped>\n",
              "    .dataframe tbody tr th:only-of-type {\n",
              "        vertical-align: middle;\n",
              "    }\n",
              "\n",
              "    .dataframe tbody tr th {\n",
              "        vertical-align: top;\n",
              "    }\n",
              "\n",
              "    .dataframe thead th {\n",
              "        text-align: right;\n",
              "    }\n",
              "</style>\n",
              "<table border=\"1\" class=\"dataframe\">\n",
              "  <thead>\n",
              "    <tr style=\"text-align: right;\">\n",
              "      <th></th>\n",
              "      <th>Name</th>\n",
              "      <th>Sentence</th>\n",
              "      <th>Prediction</th>\n",
              "      <th>WER_score</th>\n",
              "      <th>Native_speaker</th>\n",
              "      <th>Woman</th>\n",
              "      <th>Head_on</th>\n",
              "      <th>New_context</th>\n",
              "      <th>Bad_Grammar</th>\n",
              "    </tr>\n",
              "  </thead>\n",
              "  <tbody>\n",
              "    <tr>\n",
              "      <th>0</th>\n",
              "      <td>Vidya</td>\n",
              "      <td>All our dreams can come true if we have the co...</td>\n",
              "      <td>all our dreams can come to you if we have the ...</td>\n",
              "      <td>0.071</td>\n",
              "      <td>0.0</td>\n",
              "      <td>1.0</td>\n",
              "      <td>1.0</td>\n",
              "      <td>0.0</td>\n",
              "      <td>0.0</td>\n",
              "    </tr>\n",
              "    <tr>\n",
              "      <th>1</th>\n",
              "      <td>Vidya</td>\n",
              "      <td>All our dreams can come true if we have the co...</td>\n",
              "      <td>all our dreams can come to if we have the cour...</td>\n",
              "      <td>0.214</td>\n",
              "      <td>0.0</td>\n",
              "      <td>1.0</td>\n",
              "      <td>0.0</td>\n",
              "      <td>0.0</td>\n",
              "      <td>0.0</td>\n",
              "    </tr>\n",
              "    <tr>\n",
              "      <th>2</th>\n",
              "      <td>Vidya</td>\n",
              "      <td>It's the duty of the Madrigal family to use th...</td>\n",
              "      <td>it is the beauty and family includes their gif...</td>\n",
              "      <td>0.368</td>\n",
              "      <td>0.0</td>\n",
              "      <td>1.0</td>\n",
              "      <td>1.0</td>\n",
              "      <td>1.0</td>\n",
              "      <td>0.0</td>\n",
              "    </tr>\n",
              "    <tr>\n",
              "      <th>3</th>\n",
              "      <td>Vidya</td>\n",
              "      <td>It's the duty of the Madrigal family to use th...</td>\n",
              "      <td>it is the duty of the paradigm family to use t...</td>\n",
              "      <td>0.105</td>\n",
              "      <td>0.0</td>\n",
              "      <td>1.0</td>\n",
              "      <td>0.0</td>\n",
              "      <td>1.0</td>\n",
              "      <td>0.0</td>\n",
              "    </tr>\n",
              "    <tr>\n",
              "      <th>4</th>\n",
              "      <td>Vidya</td>\n",
              "      <td>Without the Black Panther Wakanda will fall</td>\n",
              "      <td>without the black panth what are you will fall</td>\n",
              "      <td>0.571</td>\n",
              "      <td>0.0</td>\n",
              "      <td>1.0</td>\n",
              "      <td>1.0</td>\n",
              "      <td>1.0</td>\n",
              "      <td>0.0</td>\n",
              "    </tr>\n",
              "    <tr>\n",
              "      <th>...</th>\n",
              "      <td>...</td>\n",
              "      <td>...</td>\n",
              "      <td>...</td>\n",
              "      <td>...</td>\n",
              "      <td>...</td>\n",
              "      <td>...</td>\n",
              "      <td>...</td>\n",
              "      <td>...</td>\n",
              "      <td>...</td>\n",
              "    </tr>\n",
              "    <tr>\n",
              "      <th>95</th>\n",
              "      <td>Keaton</td>\n",
              "      <td>With great power comes great responsibility</td>\n",
              "      <td>with the great power helps to get the responsi...</td>\n",
              "      <td>0.833</td>\n",
              "      <td>1.0</td>\n",
              "      <td>0.0</td>\n",
              "      <td>0.0</td>\n",
              "      <td>0.0</td>\n",
              "      <td>0.0</td>\n",
              "    </tr>\n",
              "    <tr>\n",
              "      <th>96</th>\n",
              "      <td>Keaton</td>\n",
              "      <td>Named must be your fear before banish it you can</td>\n",
              "      <td>name you must be your fear before punishing yo...</td>\n",
              "      <td>0.400</td>\n",
              "      <td>1.0</td>\n",
              "      <td>0.0</td>\n",
              "      <td>1.0</td>\n",
              "      <td>0.0</td>\n",
              "      <td>1.0</td>\n",
              "    </tr>\n",
              "    <tr>\n",
              "      <th>97</th>\n",
              "      <td>Keaton</td>\n",
              "      <td>Named must be your fear before banish it you can</td>\n",
              "      <td>named must be your fear performed energy today</td>\n",
              "      <td>0.500</td>\n",
              "      <td>1.0</td>\n",
              "      <td>0.0</td>\n",
              "      <td>0.0</td>\n",
              "      <td>0.0</td>\n",
              "      <td>1.0</td>\n",
              "    </tr>\n",
              "    <tr>\n",
              "      <th>98</th>\n",
              "      <td>Keaton</td>\n",
              "      <td>No Try not Do Or do not There is no try</td>\n",
              "      <td>alright</td>\n",
              "      <td>1.000</td>\n",
              "      <td>1.0</td>\n",
              "      <td>0.0</td>\n",
              "      <td>1.0</td>\n",
              "      <td>0.0</td>\n",
              "      <td>1.0</td>\n",
              "    </tr>\n",
              "    <tr>\n",
              "      <th>99</th>\n",
              "      <td>Keaton</td>\n",
              "      <td>No Try not Do Or do not There is no try</td>\n",
              "      <td>no trying not to do the artists of china</td>\n",
              "      <td>0.727</td>\n",
              "      <td>1.0</td>\n",
              "      <td>0.0</td>\n",
              "      <td>0.0</td>\n",
              "      <td>0.0</td>\n",
              "      <td>1.0</td>\n",
              "    </tr>\n",
              "  </tbody>\n",
              "</table>\n",
              "<p>100 rows × 9 columns</p>\n",
              "</div>\n",
              "      <button class=\"colab-df-convert\" onclick=\"convertToInteractive('df-f6d84614-7041-4394-824e-a540e9e2e14a')\"\n",
              "              title=\"Convert this dataframe to an interactive table.\"\n",
              "              style=\"display:none;\">\n",
              "        \n",
              "  <svg xmlns=\"http://www.w3.org/2000/svg\" height=\"24px\"viewBox=\"0 0 24 24\"\n",
              "       width=\"24px\">\n",
              "    <path d=\"M0 0h24v24H0V0z\" fill=\"none\"/>\n",
              "    <path d=\"M18.56 5.44l.94 2.06.94-2.06 2.06-.94-2.06-.94-.94-2.06-.94 2.06-2.06.94zm-11 1L8.5 8.5l.94-2.06 2.06-.94-2.06-.94L8.5 2.5l-.94 2.06-2.06.94zm10 10l.94 2.06.94-2.06 2.06-.94-2.06-.94-.94-2.06-.94 2.06-2.06.94z\"/><path d=\"M17.41 7.96l-1.37-1.37c-.4-.4-.92-.59-1.43-.59-.52 0-1.04.2-1.43.59L10.3 9.45l-7.72 7.72c-.78.78-.78 2.05 0 2.83L4 21.41c.39.39.9.59 1.41.59.51 0 1.02-.2 1.41-.59l7.78-7.78 2.81-2.81c.8-.78.8-2.07 0-2.86zM5.41 20L4 18.59l7.72-7.72 1.47 1.35L5.41 20z\"/>\n",
              "  </svg>\n",
              "      </button>\n",
              "      \n",
              "  <style>\n",
              "    .colab-df-container {\n",
              "      display:flex;\n",
              "      flex-wrap:wrap;\n",
              "      gap: 12px;\n",
              "    }\n",
              "\n",
              "    .colab-df-convert {\n",
              "      background-color: #E8F0FE;\n",
              "      border: none;\n",
              "      border-radius: 50%;\n",
              "      cursor: pointer;\n",
              "      display: none;\n",
              "      fill: #1967D2;\n",
              "      height: 32px;\n",
              "      padding: 0 0 0 0;\n",
              "      width: 32px;\n",
              "    }\n",
              "\n",
              "    .colab-df-convert:hover {\n",
              "      background-color: #E2EBFA;\n",
              "      box-shadow: 0px 1px 2px rgba(60, 64, 67, 0.3), 0px 1px 3px 1px rgba(60, 64, 67, 0.15);\n",
              "      fill: #174EA6;\n",
              "    }\n",
              "\n",
              "    [theme=dark] .colab-df-convert {\n",
              "      background-color: #3B4455;\n",
              "      fill: #D2E3FC;\n",
              "    }\n",
              "\n",
              "    [theme=dark] .colab-df-convert:hover {\n",
              "      background-color: #434B5C;\n",
              "      box-shadow: 0px 1px 3px 1px rgba(0, 0, 0, 0.15);\n",
              "      filter: drop-shadow(0px 1px 2px rgba(0, 0, 0, 0.3));\n",
              "      fill: #FFFFFF;\n",
              "    }\n",
              "  </style>\n",
              "\n",
              "      <script>\n",
              "        const buttonEl =\n",
              "          document.querySelector('#df-f6d84614-7041-4394-824e-a540e9e2e14a button.colab-df-convert');\n",
              "        buttonEl.style.display =\n",
              "          google.colab.kernel.accessAllowed ? 'block' : 'none';\n",
              "\n",
              "        async function convertToInteractive(key) {\n",
              "          const element = document.querySelector('#df-f6d84614-7041-4394-824e-a540e9e2e14a');\n",
              "          const dataTable =\n",
              "            await google.colab.kernel.invokeFunction('convertToInteractive',\n",
              "                                                     [key], {});\n",
              "          if (!dataTable) return;\n",
              "\n",
              "          const docLinkHtml = 'Like what you see? Visit the ' +\n",
              "            '<a target=\"_blank\" href=https://colab.research.google.com/notebooks/data_table.ipynb>data table notebook</a>'\n",
              "            + ' to learn more about interactive tables.';\n",
              "          element.innerHTML = '';\n",
              "          dataTable['output_type'] = 'display_data';\n",
              "          await google.colab.output.renderOutput(dataTable, element);\n",
              "          const docLink = document.createElement('div');\n",
              "          docLink.innerHTML = docLinkHtml;\n",
              "          element.appendChild(docLink);\n",
              "        }\n",
              "      </script>\n",
              "    </div>\n",
              "  </div>\n",
              "  "
            ]
          },
          "metadata": {},
          "execution_count": 27
        }
      ],
      "source": [
        "training_data"
      ]
    },
    {
      "cell_type": "code",
      "execution_count": null,
      "metadata": {
        "colab": {
          "base_uri": "https://localhost:8080/"
        },
        "id": "3mGnrAPWhH09",
        "outputId": "0a47f0c7-2d3d-4b61-b19b-ef597399ae3b"
      },
      "outputs": [
        {
          "output_type": "execute_result",
          "data": {
            "text/plain": [
              "Index(['Name', 'Sentence', 'Prediction', 'WER_score', 'Native_speaker',\n",
              "       'Woman', 'Head_on', 'New_context', 'Bad_Grammar'],\n",
              "      dtype='object')"
            ]
          },
          "metadata": {},
          "execution_count": 28
        }
      ],
      "source": [
        "training_data.columns"
      ]
    },
    {
      "cell_type": "code",
      "execution_count": null,
      "metadata": {
        "colab": {
          "base_uri": "https://localhost:8080/",
          "height": 599
        },
        "id": "zO6Jd32eiodO",
        "outputId": "64076594-700d-4efc-9c90-003df04030ef"
      },
      "outputs": [
        {
          "output_type": "execute_result",
          "data": {
            "text/plain": [
              "      Name                                           Sentence  \\\n",
              "0    Vidya  All our dreams can come true if we have the co...   \n",
              "1    Vidya  All our dreams can come true if we have the co...   \n",
              "2    Vidya  It's the duty of the Madrigal family to use th...   \n",
              "3    Vidya  It's the duty of the Madrigal family to use th...   \n",
              "4    Vidya        Without the Black Panther Wakanda will fall   \n",
              "..     ...                                                ...   \n",
              "95  Keaton        With great power comes great responsibility   \n",
              "96  Keaton   Named must be your fear before banish it you can   \n",
              "97  Keaton   Named must be your fear before banish it you can   \n",
              "98  Keaton            No Try not Do Or do not There is no try   \n",
              "99  Keaton            No Try not Do Or do not There is no try   \n",
              "\n",
              "                                           Prediction  WER_score  \\\n",
              "0   all our dreams can come to you if we have the ...      0.071   \n",
              "1   all our dreams can come to if we have the cour...      0.214   \n",
              "2   it is the beauty and family includes their gif...      0.368   \n",
              "3   it is the duty of the paradigm family to use t...      0.105   \n",
              "4      without the black panth what are you will fall      0.571   \n",
              "..                                                ...        ...   \n",
              "95  with the great power helps to get the responsi...      0.833   \n",
              "96  name you must be your fear before punishing yo...      0.400   \n",
              "97     named must be your fear performed energy today      0.500   \n",
              "98                                            alright      1.000   \n",
              "99           no trying not to do the artists of china      0.727   \n",
              "\n",
              "    Native_speaker  Woman  Head_on  New_context  Bad_Grammar  \n",
              "0              0.0    1.0      1.0          0.0          0.0  \n",
              "1              0.0    1.0      0.0          0.0          0.0  \n",
              "2              0.0    1.0      1.0          1.0          0.0  \n",
              "3              0.0    1.0      0.0          1.0          0.0  \n",
              "4              0.0    1.0      1.0          1.0          0.0  \n",
              "..             ...    ...      ...          ...          ...  \n",
              "95             1.0    0.0      0.0          0.0          0.0  \n",
              "96             1.0    0.0      1.0          0.0          1.0  \n",
              "97             1.0    0.0      0.0          0.0          1.0  \n",
              "98             1.0    0.0      1.0          0.0          1.0  \n",
              "99             1.0    0.0      0.0          0.0          1.0  \n",
              "\n",
              "[100 rows x 9 columns]"
            ],
            "text/html": [
              "\n",
              "  <div id=\"df-1953ca35-b371-4060-9490-d6a9bd9d3257\">\n",
              "    <div class=\"colab-df-container\">\n",
              "      <div>\n",
              "<style scoped>\n",
              "    .dataframe tbody tr th:only-of-type {\n",
              "        vertical-align: middle;\n",
              "    }\n",
              "\n",
              "    .dataframe tbody tr th {\n",
              "        vertical-align: top;\n",
              "    }\n",
              "\n",
              "    .dataframe thead th {\n",
              "        text-align: right;\n",
              "    }\n",
              "</style>\n",
              "<table border=\"1\" class=\"dataframe\">\n",
              "  <thead>\n",
              "    <tr style=\"text-align: right;\">\n",
              "      <th></th>\n",
              "      <th>Name</th>\n",
              "      <th>Sentence</th>\n",
              "      <th>Prediction</th>\n",
              "      <th>WER_score</th>\n",
              "      <th>Native_speaker</th>\n",
              "      <th>Woman</th>\n",
              "      <th>Head_on</th>\n",
              "      <th>New_context</th>\n",
              "      <th>Bad_Grammar</th>\n",
              "    </tr>\n",
              "  </thead>\n",
              "  <tbody>\n",
              "    <tr>\n",
              "      <th>0</th>\n",
              "      <td>Vidya</td>\n",
              "      <td>All our dreams can come true if we have the co...</td>\n",
              "      <td>all our dreams can come to you if we have the ...</td>\n",
              "      <td>0.071</td>\n",
              "      <td>0.0</td>\n",
              "      <td>1.0</td>\n",
              "      <td>1.0</td>\n",
              "      <td>0.0</td>\n",
              "      <td>0.0</td>\n",
              "    </tr>\n",
              "    <tr>\n",
              "      <th>1</th>\n",
              "      <td>Vidya</td>\n",
              "      <td>All our dreams can come true if we have the co...</td>\n",
              "      <td>all our dreams can come to if we have the cour...</td>\n",
              "      <td>0.214</td>\n",
              "      <td>0.0</td>\n",
              "      <td>1.0</td>\n",
              "      <td>0.0</td>\n",
              "      <td>0.0</td>\n",
              "      <td>0.0</td>\n",
              "    </tr>\n",
              "    <tr>\n",
              "      <th>2</th>\n",
              "      <td>Vidya</td>\n",
              "      <td>It's the duty of the Madrigal family to use th...</td>\n",
              "      <td>it is the beauty and family includes their gif...</td>\n",
              "      <td>0.368</td>\n",
              "      <td>0.0</td>\n",
              "      <td>1.0</td>\n",
              "      <td>1.0</td>\n",
              "      <td>1.0</td>\n",
              "      <td>0.0</td>\n",
              "    </tr>\n",
              "    <tr>\n",
              "      <th>3</th>\n",
              "      <td>Vidya</td>\n",
              "      <td>It's the duty of the Madrigal family to use th...</td>\n",
              "      <td>it is the duty of the paradigm family to use t...</td>\n",
              "      <td>0.105</td>\n",
              "      <td>0.0</td>\n",
              "      <td>1.0</td>\n",
              "      <td>0.0</td>\n",
              "      <td>1.0</td>\n",
              "      <td>0.0</td>\n",
              "    </tr>\n",
              "    <tr>\n",
              "      <th>4</th>\n",
              "      <td>Vidya</td>\n",
              "      <td>Without the Black Panther Wakanda will fall</td>\n",
              "      <td>without the black panth what are you will fall</td>\n",
              "      <td>0.571</td>\n",
              "      <td>0.0</td>\n",
              "      <td>1.0</td>\n",
              "      <td>1.0</td>\n",
              "      <td>1.0</td>\n",
              "      <td>0.0</td>\n",
              "    </tr>\n",
              "    <tr>\n",
              "      <th>...</th>\n",
              "      <td>...</td>\n",
              "      <td>...</td>\n",
              "      <td>...</td>\n",
              "      <td>...</td>\n",
              "      <td>...</td>\n",
              "      <td>...</td>\n",
              "      <td>...</td>\n",
              "      <td>...</td>\n",
              "      <td>...</td>\n",
              "    </tr>\n",
              "    <tr>\n",
              "      <th>95</th>\n",
              "      <td>Keaton</td>\n",
              "      <td>With great power comes great responsibility</td>\n",
              "      <td>with the great power helps to get the responsi...</td>\n",
              "      <td>0.833</td>\n",
              "      <td>1.0</td>\n",
              "      <td>0.0</td>\n",
              "      <td>0.0</td>\n",
              "      <td>0.0</td>\n",
              "      <td>0.0</td>\n",
              "    </tr>\n",
              "    <tr>\n",
              "      <th>96</th>\n",
              "      <td>Keaton</td>\n",
              "      <td>Named must be your fear before banish it you can</td>\n",
              "      <td>name you must be your fear before punishing yo...</td>\n",
              "      <td>0.400</td>\n",
              "      <td>1.0</td>\n",
              "      <td>0.0</td>\n",
              "      <td>1.0</td>\n",
              "      <td>0.0</td>\n",
              "      <td>1.0</td>\n",
              "    </tr>\n",
              "    <tr>\n",
              "      <th>97</th>\n",
              "      <td>Keaton</td>\n",
              "      <td>Named must be your fear before banish it you can</td>\n",
              "      <td>named must be your fear performed energy today</td>\n",
              "      <td>0.500</td>\n",
              "      <td>1.0</td>\n",
              "      <td>0.0</td>\n",
              "      <td>0.0</td>\n",
              "      <td>0.0</td>\n",
              "      <td>1.0</td>\n",
              "    </tr>\n",
              "    <tr>\n",
              "      <th>98</th>\n",
              "      <td>Keaton</td>\n",
              "      <td>No Try not Do Or do not There is no try</td>\n",
              "      <td>alright</td>\n",
              "      <td>1.000</td>\n",
              "      <td>1.0</td>\n",
              "      <td>0.0</td>\n",
              "      <td>1.0</td>\n",
              "      <td>0.0</td>\n",
              "      <td>1.0</td>\n",
              "    </tr>\n",
              "    <tr>\n",
              "      <th>99</th>\n",
              "      <td>Keaton</td>\n",
              "      <td>No Try not Do Or do not There is no try</td>\n",
              "      <td>no trying not to do the artists of china</td>\n",
              "      <td>0.727</td>\n",
              "      <td>1.0</td>\n",
              "      <td>0.0</td>\n",
              "      <td>0.0</td>\n",
              "      <td>0.0</td>\n",
              "      <td>1.0</td>\n",
              "    </tr>\n",
              "  </tbody>\n",
              "</table>\n",
              "<p>100 rows × 9 columns</p>\n",
              "</div>\n",
              "      <button class=\"colab-df-convert\" onclick=\"convertToInteractive('df-1953ca35-b371-4060-9490-d6a9bd9d3257')\"\n",
              "              title=\"Convert this dataframe to an interactive table.\"\n",
              "              style=\"display:none;\">\n",
              "        \n",
              "  <svg xmlns=\"http://www.w3.org/2000/svg\" height=\"24px\"viewBox=\"0 0 24 24\"\n",
              "       width=\"24px\">\n",
              "    <path d=\"M0 0h24v24H0V0z\" fill=\"none\"/>\n",
              "    <path d=\"M18.56 5.44l.94 2.06.94-2.06 2.06-.94-2.06-.94-.94-2.06-.94 2.06-2.06.94zm-11 1L8.5 8.5l.94-2.06 2.06-.94-2.06-.94L8.5 2.5l-.94 2.06-2.06.94zm10 10l.94 2.06.94-2.06 2.06-.94-2.06-.94-.94-2.06-.94 2.06-2.06.94z\"/><path d=\"M17.41 7.96l-1.37-1.37c-.4-.4-.92-.59-1.43-.59-.52 0-1.04.2-1.43.59L10.3 9.45l-7.72 7.72c-.78.78-.78 2.05 0 2.83L4 21.41c.39.39.9.59 1.41.59.51 0 1.02-.2 1.41-.59l7.78-7.78 2.81-2.81c.8-.78.8-2.07 0-2.86zM5.41 20L4 18.59l7.72-7.72 1.47 1.35L5.41 20z\"/>\n",
              "  </svg>\n",
              "      </button>\n",
              "      \n",
              "  <style>\n",
              "    .colab-df-container {\n",
              "      display:flex;\n",
              "      flex-wrap:wrap;\n",
              "      gap: 12px;\n",
              "    }\n",
              "\n",
              "    .colab-df-convert {\n",
              "      background-color: #E8F0FE;\n",
              "      border: none;\n",
              "      border-radius: 50%;\n",
              "      cursor: pointer;\n",
              "      display: none;\n",
              "      fill: #1967D2;\n",
              "      height: 32px;\n",
              "      padding: 0 0 0 0;\n",
              "      width: 32px;\n",
              "    }\n",
              "\n",
              "    .colab-df-convert:hover {\n",
              "      background-color: #E2EBFA;\n",
              "      box-shadow: 0px 1px 2px rgba(60, 64, 67, 0.3), 0px 1px 3px 1px rgba(60, 64, 67, 0.15);\n",
              "      fill: #174EA6;\n",
              "    }\n",
              "\n",
              "    [theme=dark] .colab-df-convert {\n",
              "      background-color: #3B4455;\n",
              "      fill: #D2E3FC;\n",
              "    }\n",
              "\n",
              "    [theme=dark] .colab-df-convert:hover {\n",
              "      background-color: #434B5C;\n",
              "      box-shadow: 0px 1px 3px 1px rgba(0, 0, 0, 0.15);\n",
              "      filter: drop-shadow(0px 1px 2px rgba(0, 0, 0, 0.3));\n",
              "      fill: #FFFFFF;\n",
              "    }\n",
              "  </style>\n",
              "\n",
              "      <script>\n",
              "        const buttonEl =\n",
              "          document.querySelector('#df-1953ca35-b371-4060-9490-d6a9bd9d3257 button.colab-df-convert');\n",
              "        buttonEl.style.display =\n",
              "          google.colab.kernel.accessAllowed ? 'block' : 'none';\n",
              "\n",
              "        async function convertToInteractive(key) {\n",
              "          const element = document.querySelector('#df-1953ca35-b371-4060-9490-d6a9bd9d3257');\n",
              "          const dataTable =\n",
              "            await google.colab.kernel.invokeFunction('convertToInteractive',\n",
              "                                                     [key], {});\n",
              "          if (!dataTable) return;\n",
              "\n",
              "          const docLinkHtml = 'Like what you see? Visit the ' +\n",
              "            '<a target=\"_blank\" href=https://colab.research.google.com/notebooks/data_table.ipynb>data table notebook</a>'\n",
              "            + ' to learn more about interactive tables.';\n",
              "          element.innerHTML = '';\n",
              "          dataTable['output_type'] = 'display_data';\n",
              "          await google.colab.output.renderOutput(dataTable, element);\n",
              "          const docLink = document.createElement('div');\n",
              "          docLink.innerHTML = docLinkHtml;\n",
              "          element.appendChild(docLink);\n",
              "        }\n",
              "      </script>\n",
              "    </div>\n",
              "  </div>\n",
              "  "
            ]
          },
          "metadata": {},
          "execution_count": 29
        }
      ],
      "source": [
        "training_data.fillna(0)"
      ]
    },
    {
      "cell_type": "code",
      "execution_count": null,
      "metadata": {
        "colab": {
          "base_uri": "https://localhost:8080/"
        },
        "id": "dFVMVIVoX_zM",
        "outputId": "daa6bff6-ea8a-4bbf-fdcb-0f24320681c3"
      },
      "outputs": [
        {
          "output_type": "stream",
          "name": "stdout",
          "text": [
            "The Linear regression score on training data is  0.29\n"
          ]
        }
      ],
      "source": [
        "feature_names = ['Native_speaker', 'Woman', 'Head_on', 'New_context',\n",
        "                         'Bad_Grammar']\n",
        "X_train = training_data[feature_names] # subselecting the training dataset\n",
        "y_train = training_data[\"WER_score\"].fillna(0) #  New dataframe with only independent variable value for training dataset\n",
        "\n",
        "# Create a linear regression model\n",
        "model = LinearRegression()\n",
        "\n",
        "# Fit the model to the data\n",
        "model.fit(X_train, y_train)\n",
        "\n",
        "print(\"The Linear regression score on training data is \", round(model.score(X_train, y_train),2))\n"
      ]
    },
    {
      "cell_type": "code",
      "execution_count": null,
      "metadata": {
        "colab": {
          "base_uri": "https://localhost:8080/",
          "height": 362
        },
        "id": "rDrhm-wijrZr",
        "outputId": "434ed89f-e8b8-489f-f447-9f045cfea923"
      },
      "outputs": [
        {
          "output_type": "display_data",
          "data": {
            "text/plain": [
              "<Figure size 432x288 with 1 Axes>"
            ],
            "image/png": "[encoded data removed]"
          },
          "metadata": {
            "needs_background": "light"
          }
        }
      ],
      "source": [
        "importance = model.coef_\n",
        "\n",
        "# Create a bar chart of the importance of each feature\n",
        "plt.bar(range(X_train.shape[1]), importance)\n",
        "plt.xticks(range(X_train.shape[1]), training_data[feature_names], rotation=90)\n",
        "plt.ylabel(\"Importance\")\n",
        "plt.xlabel(\"Feature\")\n",
        "plt.title(\"Importance of each feature in the Linear Regression Model\")\n",
        "\n",
        "# Show the plot\n",
        "plt.show()"
      ]
    },
    {
      "cell_type": "code",
      "execution_count": null,
      "metadata": {
        "colab": {
          "base_uri": "https://localhost:8080/",
          "height": 1000
        },
        "id": "aXdGjo4wnIVE",
        "outputId": "d15b7890-9810-42ba-b5ea-43419aeefe49"
      },
      "outputs": [
        {
          "output_type": "stream",
          "name": "stdout",
          "text": [
            "Accuracy of the model: 0.29411030560157503\n"
          ]
        },
        {
          "output_type": "display_data",
          "data": {
            "text/plain": [
              "<Figure size 576x432 with 1 Axes>"
            ],
            "image/png": "[encoded data removed]"
          },
          "metadata": {
            "needs_background": "light"
          }
        },
        {
          "output_type": "display_data",
          "data": {
            "text/plain": [
              "<Figure size 1296x864 with 1 Axes>"
            ],
            "image/png": "[encoded data removed]"
          },
          "metadata": {
            "needs_background": "light"
          }
        }
      ],
      "source": [
        "from sklearn.tree import DecisionTreeRegressor, plot_tree\n",
        "\n",
        "# Create a decision tree model\n",
        "model2 = DecisionTreeRegressor()\n",
        "\n",
        "# Fit the model to the data\n",
        "model2.fit(X_train, y_train)\n",
        "\n",
        "# Get the importance of each feature\n",
        "importance = model2.feature_importances_\n",
        "\n",
        "# Create a bar chart of the importance of each feature\n",
        "plt.figure(figsize=(8, 6))\n",
        "plt.bar(range(X_train.shape[1]), importance)\n",
        "plt.xticks(range(X_train.shape[1]), training_data[feature_names], rotation=90)\n",
        "plt.ylabel(\"Importance\")\n",
        "plt.xlabel(\"Feature\")\n",
        "plt.title(\"Importance of Each Feature in the Decision Tree Model\")\n",
        "\n",
        "# Print the accuracy of the model\n",
        "print(\"Accuracy of the model:\", model.score(X_train, y_train))\n",
        "\n",
        "\n",
        "# Plot the decision tree\n",
        "plt.figure(figsize=(18, 12))\n",
        "plot_tree(model2, filled=True, feature_names=feature_names)\n",
        "plt.show()"
      ]
    },
    {
      "cell_type": "markdown",
      "metadata": {
        "id": "6wrfWMvJZ29Z"
      },
      "source": [
        "# Observations\n",
        "\n",
        "In this section we list the observations made from the model evaluation."
      ]
    },
    {
      "cell_type": "markdown",
      "metadata": {
        "id": "Wf2BGcIugnqs"
      },
      "source": [
        "From the graph, we can make the following observations:\n",
        "* The model performed surprisingly well, despite the errors\n",
        "  - WER was 48.1% and benchmarks are typically 20-30%\n",
        "  - We were able to decipher the context in most cases\n",
        "* The model was slow to interpret given the high resolution of videos (typically 1-2.5 minutes using a GPU)\n",
        "  - Becomes difficult / impractical for real-time transcription\n",
        "* When the speaker is a non-native speaker, the model produces worse results\n",
        "  - There is a perceived bias against non-native speakers\n",
        "* Angle of taking the video wasn't significant to the model performance\n",
        "* Gender of the speaker did make a small difference with the model performing better for women speakers\n",
        "* Sentences with newer context and / or bad grammar got worse results"
      ]
    },
    {
      "cell_type": "markdown",
      "metadata": {
        "id": "P2_5-pijl2KP"
      },
      "source": [
        "# Suggestions for Improvements:\n",
        "The bias perceived in the model can be improved by training the model with the following:\n",
        "- non-native English speakers\n",
        "- using sythetically generated sentences vs video clips taken fropm other existing videos"
      ]
    }
  ],
  "metadata": {
    "accelerator": "GPU",
    "colab": {
      "machine_shape": "hm",
      "provenance": [],
      "gpuClass": "premium"
    },
    "gpuClass": "premium",
    "kernelspec": {
      "display_name": "Python 3",
      "name": "python3"
    },
    "language_info": {
      "name": "python"
    }
  },
  "nbformat": 4,
  "nbformat_minor": 0
}